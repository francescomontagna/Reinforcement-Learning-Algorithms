{
  "nbformat": 4,
  "nbformat_minor": 0,
  "metadata": {
    "colab": {
      "name": "SARSA.ipynb",
      "provenance": [],
      "authorship_tag": "ABX9TyPaLhHHZZ9k6zrqFfrEI1B7",
      "include_colab_link": true
    },
    "kernelspec": {
      "name": "python3",
      "display_name": "Python 3"
    },
    "language_info": {
      "name": "python"
    }
  },
  "cells": [
    {
      "cell_type": "markdown",
      "metadata": {
        "id": "view-in-github",
        "colab_type": "text"
      },
      "source": [
        "<a href=\"https://colab.research.google.com/github/francescomontagna/Reinforcement-Learning-Algorithms/blob/main/SARSA.ipynb\" target=\"_parent\"><img src=\"https://colab.research.google.com/assets/colab-badge.svg\" alt=\"Open In Colab\"/></a>"
      ]
    },
    {
      "cell_type": "markdown",
      "metadata": {
        "id": "OGcOkV-MEQai"
      },
      "source": [
        "Application of TD(0) control on a simple maze problem"
      ]
    },
    {
      "cell_type": "code",
      "metadata": {
        "id": "JDXpqjOYChNv"
      },
      "source": [
        "import random\n",
        "import time\n",
        "import matplotlib.pyplot as plt\n",
        "import numpy as np\n",
        "from collections import namedtuple\n",
        "from seaborn import heatmap"
      ],
      "execution_count": 2,
      "outputs": []
    },
    {
      "cell_type": "code",
      "metadata": {
        "id": "qd0Ovk1NCmdn"
      },
      "source": [
        "np.set_printoptions(precision=3, suppress=1)\n",
        "plt.style.use('seaborn-notebook')"
      ],
      "execution_count": 3,
      "outputs": []
    },
    {
      "cell_type": "code",
      "metadata": {
        "colab": {
          "base_uri": "https://localhost:8080/",
          "height": 233
        },
        "id": "oFd38taICn38",
        "outputId": "0d1ba88b-9540-456e-d439-4b330c81ae5d"
      },
      "source": [
        "class Grid(object):\n",
        "\n",
        "  def __init__(self, noisy=False):\n",
        "    # -1: wall\n",
        "    # 0: empty, episode continues\n",
        "    # other: number indicates reward, episode will terminate\n",
        "\n",
        "    self._layout = np.array([\n",
        "      [-1, -1, -1, -1, -1, -1, -1, -1, -1, -1, -1],\n",
        "      [-1,  0,  0,  0,  0,  0,  0,  0,  0,  0, -1],\n",
        "      [-1,  0,  0,  0, -1, -1, -1,  0,  0,  0, -1],\n",
        "      [-1,  0,  0,  0, -1, -1, -1,  0, 10,  0, -1],\n",
        "      [-1,  0,  0,  0, -1, -1, -1,  0,  0,  0, -1],\n",
        "      [-1,  0,  0,  0,  0,  0,  0,  0,  0,  0, -1],\n",
        "      [-1,  0,  0,  0,  0,  0,  0,  0,  0,  0, -1],\n",
        "      [-1,  0,  0,  0,  0,  0,  0,  0,  0,  0, -1],\n",
        "      [-1, -1, -1, -1, -1, -1, -1, -1, -1, -1, -1]\n",
        "    ])\n",
        "    self._start_state = (2, 2)\n",
        "    self._terminal_state = (3, 8)\n",
        "    self._state = self._start_state\n",
        "    self._number_of_states = np.prod(np.shape(self._layout))\n",
        "    self._noisy = noisy\n",
        "\n",
        "\n",
        "  @property\n",
        "  def number_of_states(self):\n",
        "      return self._number_of_states\n",
        "    \n",
        "\n",
        "  def plot_grid(self):\n",
        "    plt.figure(figsize=(4, 4))\n",
        "    plt.imshow(self._layout > -1, interpolation=\"nearest\", cmap='pink')\n",
        "    ax = plt.gca() # 'get current axis'\n",
        "    ax.grid(0)\n",
        "    plt.xticks([])\n",
        "    plt.yticks([])\n",
        "    plt.title(\"The grid\")\n",
        "    plt.text(2, 2, r\"$\\mathbf{S}$\", ha='center', va='center')\n",
        "    plt.text(8, 3, r\"$\\mathbf{G}$\", ha='center', va='center')\n",
        "    h, w = self._layout.shape\n",
        "    for y in range(h-1):\n",
        "      plt.plot([-0.5, w-0.5], [y+0.5, y+0.5], '-k', lw=2)\n",
        "    for x in range(w-1):\n",
        "      plt.plot([x+0.5, x+0.5], [-0.5, h-0.5], '-k', lw=2)\n",
        "\n",
        "  \n",
        "  def get_obs(self, terminal = False):\n",
        "    if terminal:\n",
        "      y, x = self._terminal_state\n",
        "    else:\n",
        "      y, x = self._state\n",
        "\n",
        "    # Flatten state: rows*#columns + column\n",
        "    return y*self._layout.shape[1] + x\n",
        "\n",
        "  def obs_to_state(self, obs):\n",
        "    x = obs % self._layout.shape[1]\n",
        "    y = obs // self._layout.shape[1]\n",
        "    s = np.copy(self._layout)\n",
        "    s[y, x] = 4\n",
        "    return s\n",
        "\n",
        "  def get_state(self, obs):\n",
        "    x = obs % self._layout.shape[1]\n",
        "    y = obs // self._layout.shape[1]\n",
        "\n",
        "    return y, x\n",
        "\n",
        "  # Environment: given an action as input, return [state, reward]\n",
        "  def step(self, action):\n",
        "    y, x = self._state\n",
        "    \n",
        "    # Next state\n",
        "    if action == 0:  # up\n",
        "      new_state = (y - 1, x)\n",
        "    elif action == 1:  # right\n",
        "      new_state = (y, x + 1)\n",
        "    elif action == 2:  # down\n",
        "      new_state = (y + 1, x)\n",
        "    elif action == 3:  # left\n",
        "      new_state = (y, x - 1)\n",
        "    else:\n",
        "      raise ValueError(\"Invalid action: {} is not 0, 1, 2, or 3.\".format(action))\n",
        "\n",
        "    # Next reward (wind)\n",
        "    new_y, new_x = new_state\n",
        "    if self._layout[new_y, new_x] == -1:  # wall\n",
        "      reward = -5.\n",
        "      new_state = (y, x)\n",
        "    elif self._layout[new_y, new_x] == 0:  # empty cell\n",
        "      reward = 0.\n",
        "    else:  # a goal\n",
        "      reward = self._layout[new_y, new_x]\n",
        "      new_state = (new_y, new_x)\n",
        "    \n",
        "    # Add noise to the reward (?)\n",
        "    if self._noisy:\n",
        "      width = self._layout.shape[1]\n",
        "      reward += 2*np.random.normal(0, width - new_x + new_y)\n",
        "    \n",
        "    self._state = new_state\n",
        "\n",
        "    return reward, self.get_obs()\n",
        "\n",
        "grid = Grid()\n",
        "grid.plot_grid()"
      ],
      "execution_count": 29,
      "outputs": [
        {
          "output_type": "display_data",
          "data": {
            "image/png": "[encoded data removed]",
            "text/plain": [
              "<Figure size 288x288 with 1 Axes>"
            ]
          },
          "metadata": {
            "tags": []
          }
        }
      ]
    },
    {
      "cell_type": "code",
      "metadata": {
        "id": "cAsfNkC_Cso1"
      },
      "source": [
        "class Sarsa:\n",
        "  def __init__(self, grid, number_of_actions, step_size=0.1, eps = 0.1):\n",
        "    self._action_values = np.zeros((grid._number_of_states, number_of_actions))\n",
        "    self._number_of_actions = number_of_actions\n",
        "    self._grid = grid # environment\n",
        "    self._step_size = step_size\n",
        "    self._eps = eps\n",
        "\n",
        "  def run(self, K, discount):\n",
        "    \"\"\"\n",
        "    Run Monte Carlo control algorithm\n",
        "    Args:\n",
        "      K (int): total number of sampled episodes\n",
        "      discount (float): future reward discount value (gamma in Sutton & Barto).\n",
        "    \"\"\"\n",
        "    for k in range(K):\n",
        "      self.episode(discount)\n",
        "\n",
        "  def episode(self, discount):\n",
        "    \"\"\"\n",
        "    Sample and episode.\n",
        "    \"\"\"\n",
        "    # initialization\n",
        "    s = self._grid.get_obs() \n",
        "    a = np.random.randint(0, self._number_of_actions)\n",
        "\n",
        "    # terminal state\n",
        "    T = self._grid.get_obs(terminal = True)\n",
        "    while s != T:\n",
        "      r, next_state = self._grid.step(a)\n",
        "      next_action = self.eps_greedy(next_state) # eps-greedy policy\n",
        "\n",
        "      current_value = self._action_values[s, a]\n",
        "      next_value = self._action_values[next_state, next_action]\n",
        "      update = self._step_size*(r + discount*next_value - current_value)\n",
        "      self._action_values[s, a] += update\n",
        "\n",
        "      s = next_state\n",
        "      a = next_action\n",
        "\n",
        "    # reset grid to start state\n",
        "    self._grid._state = self._grid._start_state\n",
        "\n",
        "\n",
        "  def eps_greedy(self, s):\n",
        "    \"\"\"\n",
        "    Args:\n",
        "      s (int): current state\n",
        "    Returns:\n",
        "      next_action (int): refer to Grid() class for action encoding\n",
        "    \"\"\"\n",
        "\n",
        "    # Pick next action eps-greedily\n",
        "    greedy = np.random.choice([True, False], p=[1-self._eps, self._eps])\n",
        "    if greedy:\n",
        "      return self._action_values[s, :].argmax()\n",
        "\n",
        "    return np.random.randint(0, self._number_of_actions)"
      ],
      "execution_count": 27,
      "outputs": []
    },
    {
      "cell_type": "code",
      "metadata": {
        "colab": {
          "base_uri": "https://localhost:8080/"
        },
        "id": "tXwHOLrJExLQ",
        "outputId": "bb695335-0dde-496b-de12-341a7a1a1523"
      },
      "source": [
        "start = time.time()\n",
        "K = 100000\n",
        "sarsa = Sarsa(grid, 4, eps = 0.1)\n",
        "sarsa.run(K, 0.9)\n",
        "print(f\"Execution time for {K} episodes: {time.time() - start}\")"
      ],
      "execution_count": 36,
      "outputs": [
        {
          "output_type": "stream",
          "text": [
            "Execution time for 100000 episodes: 47.76167631149292\n"
          ],
          "name": "stdout"
        }
      ]
    },
    {
      "cell_type": "code",
      "metadata": {
        "id": "a4AHz3C9IyQp"
      },
      "source": [
        "action_values = []\n",
        "for a in range(4):\n",
        "  action_grid = np.copy(sarsa._grid._layout).astype(np.float)\n",
        "  for s, v in enumerate(sarsa._action_values[:, a]):\n",
        "    y, x = sarsa._grid.get_state(s)\n",
        "    action_grid[y, x] = v\n",
        "  action_values.append(action_grid)"
      ],
      "execution_count": 39,
      "outputs": []
    },
    {
      "cell_type": "code",
      "metadata": {
        "colab": {
          "base_uri": "https://localhost:8080/",
          "height": 1000
        },
        "id": "nXbJk7PuI6Mc",
        "outputId": "d5e48be3-8761-4365-e247-725e5599aebe"
      },
      "source": [
        "fig, ax = plt.subplots(4, 1, figsize = (7, 20))\n",
        "actions = {0: 'up', 1: 'right', 2: 'down', 3:'left'}\n",
        "for i in range(len(action_values)):\n",
        "  ax[i].set_title(actions[i])\n",
        "  heatmap(action_values[i], 7, -6, ax = ax[i])"
      ],
      "execution_count": 40,
      "outputs": [
        {
          "output_type": "stream",
          "text": [
            "/usr/local/lib/python3.7/dist-packages/seaborn/_decorators.py:43: FutureWarning: Pass the following variables as keyword args: vmin, vmax. From version 0.12, the only valid positional argument will be `data`, and passing other arguments without an explicit keyword will result in an error or misinterpretation.\n",
            "  FutureWarning\n"
          ],
          "name": "stderr"
        },
        {
          "output_type": "display_data",
          "data": {
            "image/png": "[encoded data removed]",
            "text/plain": [
              "<Figure size 504x1440 with 8 Axes>"
            ]
          },
          "metadata": {
            "tags": [],
            "needs_background": "light"
          }
        }
      ]
    }
  ]
}